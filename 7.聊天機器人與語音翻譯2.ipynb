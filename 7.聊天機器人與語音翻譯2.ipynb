{
 "cells": [
  {
   "cell_type": "code",
   "execution_count": 20,
   "id": "588f4a9c-913b-41e7-813d-e4bc3f87c528",
   "metadata": {
    "scrolled": true
   },
   "outputs": [
    {
     "name": "stdout",
     "output_type": "stream",
     "text": [
      "Defaulting to user installation because normal site-packages is not writeable\n",
      "Requirement already satisfied: winspeech in c:\\users\\ocean\\appdata\\roaming\\python\\python311\\site-packages (1.0.1)\n",
      "Requirement already satisfied: pywin32 in c:\\programdata\\anaconda3\\lib\\site-packages (from winspeech) (305.1)\n"
     ]
    },
    {
     "name": "stderr",
     "output_type": "stream",
     "text": [
      "WARNING: Skipping C:\\ProgramData\\anaconda3\\Lib\\site-packages\\datashader-0.16.0.dist-info due to invalid metadata entry 'name'\n",
      "WARNING: Skipping C:\\ProgramData\\anaconda3\\Lib\\site-packages\\holoviews-1.18.3.dist-info due to invalid metadata entry 'name'\n",
      "WARNING: Skipping C:\\ProgramData\\anaconda3\\Lib\\site-packages\\hvplot-0.9.2.dist-info due to invalid metadata entry 'name'\n",
      "WARNING: Skipping C:\\ProgramData\\anaconda3\\Lib\\site-packages\\panel-1.3.8.dist-info due to invalid metadata entry 'name'\n",
      "WARNING: Skipping C:\\ProgramData\\anaconda3\\Lib\\site-packages\\datashader-0.16.0.dist-info due to invalid metadata entry 'name'\n",
      "WARNING: Skipping C:\\ProgramData\\anaconda3\\Lib\\site-packages\\holoviews-1.18.3.dist-info due to invalid metadata entry 'name'\n",
      "WARNING: Skipping C:\\ProgramData\\anaconda3\\Lib\\site-packages\\hvplot-0.9.2.dist-info due to invalid metadata entry 'name'\n",
      "WARNING: Skipping C:\\ProgramData\\anaconda3\\Lib\\site-packages\\panel-1.3.8.dist-info due to invalid metadata entry 'name'\n",
      "WARNING: Skipping C:\\ProgramData\\anaconda3\\Lib\\site-packages\\statsmodels-0.14.0.dist-info due to invalid metadata entry 'name'\n",
      "WARNING: Skipping C:\\ProgramData\\anaconda3\\Lib\\site-packages\\streamlit-1.30.0.dist-info due to invalid metadata entry 'name'\n",
      "WARNING: Skipping C:\\ProgramData\\anaconda3\\Lib\\site-packages\\xarray-2023.6.0.dist-info due to invalid metadata entry 'name'\n",
      "WARNING: Skipping C:\\ProgramData\\anaconda3\\Lib\\site-packages\\datashader-0.16.0.dist-info due to invalid metadata entry 'name'\n",
      "WARNING: Skipping C:\\ProgramData\\anaconda3\\Lib\\site-packages\\holoviews-1.18.3.dist-info due to invalid metadata entry 'name'\n",
      "WARNING: Skipping C:\\ProgramData\\anaconda3\\Lib\\site-packages\\hvplot-0.9.2.dist-info due to invalid metadata entry 'name'\n",
      "WARNING: Skipping C:\\ProgramData\\anaconda3\\Lib\\site-packages\\panel-1.3.8.dist-info due to invalid metadata entry 'name'\n",
      "WARNING: Skipping C:\\ProgramData\\anaconda3\\Lib\\site-packages\\statsmodels-0.14.0.dist-info due to invalid metadata entry 'name'\n",
      "WARNING: Skipping C:\\ProgramData\\anaconda3\\Lib\\site-packages\\streamlit-1.30.0.dist-info due to invalid metadata entry 'name'\n",
      "WARNING: Skipping C:\\ProgramData\\anaconda3\\Lib\\site-packages\\xarray-2023.6.0.dist-info due to invalid metadata entry 'name'\n",
      "WARNING: Skipping C:\\ProgramData\\anaconda3\\Lib\\site-packages\\datashader-0.16.0.dist-info due to invalid metadata entry 'name'\n",
      "WARNING: Skipping C:\\ProgramData\\anaconda3\\Lib\\site-packages\\holoviews-1.18.3.dist-info due to invalid metadata entry 'name'\n",
      "WARNING: Skipping C:\\ProgramData\\anaconda3\\Lib\\site-packages\\hvplot-0.9.2.dist-info due to invalid metadata entry 'name'\n",
      "WARNING: Skipping C:\\ProgramData\\anaconda3\\Lib\\site-packages\\panel-1.3.8.dist-info due to invalid metadata entry 'name'\n",
      "WARNING: Skipping C:\\ProgramData\\anaconda3\\Lib\\site-packages\\datashader-0.16.0.dist-info due to invalid metadata entry 'name'\n",
      "WARNING: Skipping C:\\ProgramData\\anaconda3\\Lib\\site-packages\\holoviews-1.18.3.dist-info due to invalid metadata entry 'name'\n",
      "WARNING: Skipping C:\\ProgramData\\anaconda3\\Lib\\site-packages\\hvplot-0.9.2.dist-info due to invalid metadata entry 'name'\n",
      "WARNING: Skipping C:\\ProgramData\\anaconda3\\Lib\\site-packages\\panel-1.3.8.dist-info due to invalid metadata entry 'name'\n",
      "WARNING: Skipping C:\\ProgramData\\anaconda3\\Lib\\site-packages\\datashader-0.16.0.dist-info due to invalid metadata entry 'name'\n",
      "WARNING: Skipping C:\\ProgramData\\anaconda3\\Lib\\site-packages\\holoviews-1.18.3.dist-info due to invalid metadata entry 'name'\n",
      "WARNING: Skipping C:\\ProgramData\\anaconda3\\Lib\\site-packages\\hvplot-0.9.2.dist-info due to invalid metadata entry 'name'\n",
      "WARNING: Skipping C:\\ProgramData\\anaconda3\\Lib\\site-packages\\panel-1.3.8.dist-info due to invalid metadata entry 'name'\n"
     ]
    },
    {
     "name": "stdout",
     "output_type": "stream",
     "text": [
      "Defaulting to user installation because normal site-packages is not writeable\n",
      "Requirement already satisfied: SpeechRecognition in c:\\users\\ocean\\appdata\\roaming\\python\\python311\\site-packages (3.10.4)\n",
      "Requirement already satisfied: requests>=2.26.0 in c:\\programdata\\anaconda3\\lib\\site-packages (from SpeechRecognition) (2.31.0)\n",
      "Requirement already satisfied: typing-extensions in c:\\programdata\\anaconda3\\lib\\site-packages (from SpeechRecognition) (4.9.0)\n",
      "Requirement already satisfied: charset-normalizer<4,>=2 in c:\\programdata\\anaconda3\\lib\\site-packages (from requests>=2.26.0->SpeechRecognition) (2.0.4)\n",
      "Requirement already satisfied: idna<4,>=2.5 in c:\\programdata\\anaconda3\\lib\\site-packages (from requests>=2.26.0->SpeechRecognition) (3.4)\n",
      "Requirement already satisfied: urllib3<3,>=1.21.1 in c:\\programdata\\anaconda3\\lib\\site-packages (from requests>=2.26.0->SpeechRecognition) (2.0.7)\n",
      "Requirement already satisfied: certifi>=2017.4.17 in c:\\programdata\\anaconda3\\lib\\site-packages (from requests>=2.26.0->SpeechRecognition) (2024.2.2)\n"
     ]
    },
    {
     "name": "stderr",
     "output_type": "stream",
     "text": [
      "WARNING: Skipping C:\\ProgramData\\anaconda3\\Lib\\site-packages\\datashader-0.16.0.dist-info due to invalid metadata entry 'name'\n",
      "WARNING: Skipping C:\\ProgramData\\anaconda3\\Lib\\site-packages\\holoviews-1.18.3.dist-info due to invalid metadata entry 'name'\n",
      "WARNING: Skipping C:\\ProgramData\\anaconda3\\Lib\\site-packages\\hvplot-0.9.2.dist-info due to invalid metadata entry 'name'\n",
      "WARNING: Skipping C:\\ProgramData\\anaconda3\\Lib\\site-packages\\panel-1.3.8.dist-info due to invalid metadata entry 'name'\n",
      "WARNING: Skipping C:\\ProgramData\\anaconda3\\Lib\\site-packages\\datashader-0.16.0.dist-info due to invalid metadata entry 'name'\n",
      "WARNING: Skipping C:\\ProgramData\\anaconda3\\Lib\\site-packages\\holoviews-1.18.3.dist-info due to invalid metadata entry 'name'\n",
      "WARNING: Skipping C:\\ProgramData\\anaconda3\\Lib\\site-packages\\hvplot-0.9.2.dist-info due to invalid metadata entry 'name'\n",
      "WARNING: Skipping C:\\ProgramData\\anaconda3\\Lib\\site-packages\\panel-1.3.8.dist-info due to invalid metadata entry 'name'\n",
      "WARNING: Skipping C:\\ProgramData\\anaconda3\\Lib\\site-packages\\statsmodels-0.14.0.dist-info due to invalid metadata entry 'name'\n",
      "WARNING: Skipping C:\\ProgramData\\anaconda3\\Lib\\site-packages\\streamlit-1.30.0.dist-info due to invalid metadata entry 'name'\n",
      "WARNING: Skipping C:\\ProgramData\\anaconda3\\Lib\\site-packages\\xarray-2023.6.0.dist-info due to invalid metadata entry 'name'\n",
      "WARNING: Skipping C:\\ProgramData\\anaconda3\\Lib\\site-packages\\datashader-0.16.0.dist-info due to invalid metadata entry 'name'\n",
      "WARNING: Skipping C:\\ProgramData\\anaconda3\\Lib\\site-packages\\holoviews-1.18.3.dist-info due to invalid metadata entry 'name'\n",
      "WARNING: Skipping C:\\ProgramData\\anaconda3\\Lib\\site-packages\\hvplot-0.9.2.dist-info due to invalid metadata entry 'name'\n",
      "WARNING: Skipping C:\\ProgramData\\anaconda3\\Lib\\site-packages\\panel-1.3.8.dist-info due to invalid metadata entry 'name'\n",
      "WARNING: Skipping C:\\ProgramData\\anaconda3\\Lib\\site-packages\\statsmodels-0.14.0.dist-info due to invalid metadata entry 'name'\n",
      "WARNING: Skipping C:\\ProgramData\\anaconda3\\Lib\\site-packages\\streamlit-1.30.0.dist-info due to invalid metadata entry 'name'\n",
      "WARNING: Skipping C:\\ProgramData\\anaconda3\\Lib\\site-packages\\xarray-2023.6.0.dist-info due to invalid metadata entry 'name'\n",
      "WARNING: Skipping C:\\ProgramData\\anaconda3\\Lib\\site-packages\\datashader-0.16.0.dist-info due to invalid metadata entry 'name'\n",
      "WARNING: Skipping C:\\ProgramData\\anaconda3\\Lib\\site-packages\\holoviews-1.18.3.dist-info due to invalid metadata entry 'name'\n",
      "WARNING: Skipping C:\\ProgramData\\anaconda3\\Lib\\site-packages\\hvplot-0.9.2.dist-info due to invalid metadata entry 'name'\n",
      "WARNING: Skipping C:\\ProgramData\\anaconda3\\Lib\\site-packages\\panel-1.3.8.dist-info due to invalid metadata entry 'name'\n",
      "WARNING: Skipping C:\\ProgramData\\anaconda3\\Lib\\site-packages\\datashader-0.16.0.dist-info due to invalid metadata entry 'name'\n",
      "WARNING: Skipping C:\\ProgramData\\anaconda3\\Lib\\site-packages\\holoviews-1.18.3.dist-info due to invalid metadata entry 'name'\n",
      "WARNING: Skipping C:\\ProgramData\\anaconda3\\Lib\\site-packages\\hvplot-0.9.2.dist-info due to invalid metadata entry 'name'\n",
      "WARNING: Skipping C:\\ProgramData\\anaconda3\\Lib\\site-packages\\panel-1.3.8.dist-info due to invalid metadata entry 'name'\n",
      "WARNING: Skipping C:\\ProgramData\\anaconda3\\Lib\\site-packages\\datashader-0.16.0.dist-info due to invalid metadata entry 'name'\n",
      "WARNING: Skipping C:\\ProgramData\\anaconda3\\Lib\\site-packages\\holoviews-1.18.3.dist-info due to invalid metadata entry 'name'\n",
      "WARNING: Skipping C:\\ProgramData\\anaconda3\\Lib\\site-packages\\hvplot-0.9.2.dist-info due to invalid metadata entry 'name'\n",
      "WARNING: Skipping C:\\ProgramData\\anaconda3\\Lib\\site-packages\\panel-1.3.8.dist-info due to invalid metadata entry 'name'\n"
     ]
    },
    {
     "name": "stdout",
     "output_type": "stream",
     "text": [
      "Defaulting to user installation because normal site-packages is not writeable\n",
      "Requirement already satisfied: pipwin in c:\\users\\ocean\\appdata\\roaming\\python\\python311\\site-packages (0.5.2)\n",
      "Requirement already satisfied: docopt in c:\\users\\ocean\\appdata\\roaming\\python\\python311\\site-packages (from pipwin) (0.6.2)\n",
      "Requirement already satisfied: requests in c:\\programdata\\anaconda3\\lib\\site-packages (from pipwin) (2.31.0)\n",
      "Requirement already satisfied: pyprind in c:\\users\\ocean\\appdata\\roaming\\python\\python311\\site-packages (from pipwin) (2.11.3)\n",
      "Requirement already satisfied: six in c:\\programdata\\anaconda3\\lib\\site-packages (from pipwin) (1.16.0)\n",
      "Requirement already satisfied: beautifulsoup4>=4.9.0 in c:\\programdata\\anaconda3\\lib\\site-packages (from pipwin) (4.12.2)\n",
      "Requirement already satisfied: js2py in c:\\users\\ocean\\appdata\\roaming\\python\\python311\\site-packages (from pipwin) (0.74)\n",
      "Requirement already satisfied: packaging in c:\\programdata\\anaconda3\\lib\\site-packages (from pipwin) (23.1)\n",
      "Requirement already satisfied: pySmartDL>=1.3.1 in c:\\users\\ocean\\appdata\\roaming\\python\\python311\\site-packages (from pipwin) (1.3.4)\n",
      "Requirement already satisfied: soupsieve>1.2 in c:\\programdata\\anaconda3\\lib\\site-packages (from beautifulsoup4>=4.9.0->pipwin) (2.5)\n",
      "Requirement already satisfied: tzlocal>=1.2 in c:\\programdata\\anaconda3\\lib\\site-packages (from js2py->pipwin) (2.1)\n",
      "Requirement already satisfied: pyjsparser>=2.5.1 in c:\\users\\ocean\\appdata\\roaming\\python\\python311\\site-packages (from js2py->pipwin) (2.7.1)\n",
      "Requirement already satisfied: charset-normalizer<4,>=2 in c:\\programdata\\anaconda3\\lib\\site-packages (from requests->pipwin) (2.0.4)\n",
      "Requirement already satisfied: idna<4,>=2.5 in c:\\programdata\\anaconda3\\lib\\site-packages (from requests->pipwin) (3.4)\n",
      "Requirement already satisfied: urllib3<3,>=1.21.1 in c:\\programdata\\anaconda3\\lib\\site-packages (from requests->pipwin) (2.0.7)\n",
      "Requirement already satisfied: certifi>=2017.4.17 in c:\\programdata\\anaconda3\\lib\\site-packages (from requests->pipwin) (2024.2.2)\n",
      "Requirement already satisfied: pytz in c:\\programdata\\anaconda3\\lib\\site-packages (from tzlocal>=1.2->js2py->pipwin) (2023.3.post1)\n"
     ]
    },
    {
     "name": "stderr",
     "output_type": "stream",
     "text": [
      "WARNING: Skipping C:\\ProgramData\\anaconda3\\Lib\\site-packages\\datashader-0.16.0.dist-info due to invalid metadata entry 'name'\n",
      "WARNING: Skipping C:\\ProgramData\\anaconda3\\Lib\\site-packages\\holoviews-1.18.3.dist-info due to invalid metadata entry 'name'\n",
      "WARNING: Skipping C:\\ProgramData\\anaconda3\\Lib\\site-packages\\hvplot-0.9.2.dist-info due to invalid metadata entry 'name'\n",
      "WARNING: Skipping C:\\ProgramData\\anaconda3\\Lib\\site-packages\\panel-1.3.8.dist-info due to invalid metadata entry 'name'\n",
      "WARNING: Skipping C:\\ProgramData\\anaconda3\\Lib\\site-packages\\datashader-0.16.0.dist-info due to invalid metadata entry 'name'\n",
      "WARNING: Skipping C:\\ProgramData\\anaconda3\\Lib\\site-packages\\holoviews-1.18.3.dist-info due to invalid metadata entry 'name'\n",
      "WARNING: Skipping C:\\ProgramData\\anaconda3\\Lib\\site-packages\\hvplot-0.9.2.dist-info due to invalid metadata entry 'name'\n",
      "WARNING: Skipping C:\\ProgramData\\anaconda3\\Lib\\site-packages\\panel-1.3.8.dist-info due to invalid metadata entry 'name'\n",
      "WARNING: Skipping C:\\ProgramData\\anaconda3\\Lib\\site-packages\\statsmodels-0.14.0.dist-info due to invalid metadata entry 'name'\n",
      "WARNING: Skipping C:\\ProgramData\\anaconda3\\Lib\\site-packages\\streamlit-1.30.0.dist-info due to invalid metadata entry 'name'\n",
      "WARNING: Skipping C:\\ProgramData\\anaconda3\\Lib\\site-packages\\xarray-2023.6.0.dist-info due to invalid metadata entry 'name'\n",
      "WARNING: Skipping C:\\ProgramData\\anaconda3\\Lib\\site-packages\\datashader-0.16.0.dist-info due to invalid metadata entry 'name'\n",
      "WARNING: Skipping C:\\ProgramData\\anaconda3\\Lib\\site-packages\\holoviews-1.18.3.dist-info due to invalid metadata entry 'name'\n",
      "WARNING: Skipping C:\\ProgramData\\anaconda3\\Lib\\site-packages\\hvplot-0.9.2.dist-info due to invalid metadata entry 'name'\n",
      "WARNING: Skipping C:\\ProgramData\\anaconda3\\Lib\\site-packages\\panel-1.3.8.dist-info due to invalid metadata entry 'name'\n",
      "WARNING: Skipping C:\\ProgramData\\anaconda3\\Lib\\site-packages\\statsmodels-0.14.0.dist-info due to invalid metadata entry 'name'\n",
      "WARNING: Skipping C:\\ProgramData\\anaconda3\\Lib\\site-packages\\streamlit-1.30.0.dist-info due to invalid metadata entry 'name'\n",
      "WARNING: Skipping C:\\ProgramData\\anaconda3\\Lib\\site-packages\\xarray-2023.6.0.dist-info due to invalid metadata entry 'name'\n",
      "WARNING: Skipping C:\\ProgramData\\anaconda3\\Lib\\site-packages\\datashader-0.16.0.dist-info due to invalid metadata entry 'name'\n",
      "WARNING: Skipping C:\\ProgramData\\anaconda3\\Lib\\site-packages\\holoviews-1.18.3.dist-info due to invalid metadata entry 'name'\n",
      "WARNING: Skipping C:\\ProgramData\\anaconda3\\Lib\\site-packages\\hvplot-0.9.2.dist-info due to invalid metadata entry 'name'\n",
      "WARNING: Skipping C:\\ProgramData\\anaconda3\\Lib\\site-packages\\panel-1.3.8.dist-info due to invalid metadata entry 'name'\n",
      "WARNING: Skipping C:\\ProgramData\\anaconda3\\Lib\\site-packages\\datashader-0.16.0.dist-info due to invalid metadata entry 'name'\n",
      "WARNING: Skipping C:\\ProgramData\\anaconda3\\Lib\\site-packages\\holoviews-1.18.3.dist-info due to invalid metadata entry 'name'\n",
      "WARNING: Skipping C:\\ProgramData\\anaconda3\\Lib\\site-packages\\hvplot-0.9.2.dist-info due to invalid metadata entry 'name'\n",
      "WARNING: Skipping C:\\ProgramData\\anaconda3\\Lib\\site-packages\\panel-1.3.8.dist-info due to invalid metadata entry 'name'\n",
      "WARNING: Skipping C:\\ProgramData\\anaconda3\\Lib\\site-packages\\datashader-0.16.0.dist-info due to invalid metadata entry 'name'\n",
      "WARNING: Skipping C:\\ProgramData\\anaconda3\\Lib\\site-packages\\holoviews-1.18.3.dist-info due to invalid metadata entry 'name'\n",
      "WARNING: Skipping C:\\ProgramData\\anaconda3\\Lib\\site-packages\\hvplot-0.9.2.dist-info due to invalid metadata entry 'name'\n",
      "WARNING: Skipping C:\\ProgramData\\anaconda3\\Lib\\site-packages\\panel-1.3.8.dist-info due to invalid metadata entry 'name'\n",
      "'pipwiw' 不是內部或外部命令、可執行的程式或批次檔。\n"
     ]
    }
   ],
   "source": [
    "# 聊天機器人\n",
    "\n",
    "! pip install winspeech\n",
    "! pip install SpeechRecognition\n",
    "! pip install pipwin\n",
    "! pipwiw install PyAudio"
   ]
  },
  {
   "cell_type": "code",
   "execution_count": 21,
   "id": "bf2296d8-14a2-4057-a290-394263b040e7",
   "metadata": {},
   "outputs": [],
   "source": [
    "import speech_recognition\n",
    "def listenTo():\n",
    "    r=speech_recognition.Recognizer()\n",
    "    with speech_recognition.Microphone() as source:\n",
    "        r.adjust_for_ambient_noise(source)\n",
    "        audio=r.listen(source)\n",
    "    return r.recognize_google(audio,language='zh-TW')"
   ]
  },
  {
   "cell_type": "code",
   "execution_count": 22,
   "id": "be983045-0960-43b7-8025-f8fe316332fd",
   "metadata": {},
   "outputs": [],
   "source": [
    "import tempfile\n",
    "from gtts import gTTS\n",
    "from pygame import mixer\n",
    "mixer.init()"
   ]
  },
  {
   "cell_type": "code",
   "execution_count": 24,
   "id": "357da0b4-3178-494b-920f-2c158694948c",
   "metadata": {},
   "outputs": [],
   "source": [
    "def speak(sentence):\n",
    "    with tempfile.NamedTemporaryFile(delete=True) as fp:\n",
    "        tts=gTTS(text=sentence,lang='zh-TW')\n",
    "        tts.save(\"{}.mp3\".format(fp.name))\n",
    "        mixer.music.load('{}.mp3'.format(fp.name))\n",
    "        mixer.music.play()\n",
    "speak('大家好')"
   ]
  },
  {
   "cell_type": "code",
   "execution_count": 26,
   "id": "f3582d1f-5942-4644-8cb6-5f66ed017d02",
   "metadata": {},
   "outputs": [
    {
     "name": "stdout",
     "output_type": "stream",
     "text": [
      "C:\\ProgramData\\anaconda3\\python.exe\n"
     ]
    }
   ],
   "source": [
    "import sys\n",
    "print(sys.executable)"
   ]
  },
  {
   "cell_type": "code",
   "execution_count": 27,
   "id": "95d96e44-b3c3-4729-a65b-bd6e2ac18755",
   "metadata": {},
   "outputs": [
    {
     "name": "stdout",
     "output_type": "stream",
     "text": [
      "['C:\\\\Users\\\\ocean', 'C:\\\\ProgramData\\\\anaconda3\\\\python311.zip', 'C:\\\\ProgramData\\\\anaconda3\\\\DLLs', 'C:\\\\ProgramData\\\\anaconda3\\\\Lib', 'C:\\\\ProgramData\\\\anaconda3', '', 'C:\\\\Users\\\\ocean\\\\AppData\\\\Roaming\\\\Python\\\\Python311\\\\site-packages', 'C:\\\\ProgramData\\\\anaconda3\\\\Lib\\\\site-packages', 'C:\\\\ProgramData\\\\anaconda3\\\\Lib\\\\site-packages\\\\win32', 'C:\\\\ProgramData\\\\anaconda3\\\\Lib\\\\site-packages\\\\win32\\\\lib', 'C:\\\\ProgramData\\\\anaconda3\\\\Lib\\\\site-packages\\\\Pythonwin']\n"
     ]
    }
   ],
   "source": [
    "import sys\n",
    "print(sys.path)"
   ]
  },
  {
   "cell_type": "code",
   "execution_count": 29,
   "id": "dbb5f5dc-5382-496b-b520-7b5b17432a70",
   "metadata": {},
   "outputs": [],
   "source": [
    "import sys\n",
    "sys.path.append('C:\\\\Users\\\\ocean\\\\anaconda3\\\\Lib\\\\site-packages')"
   ]
  },
  {
   "cell_type": "code",
   "execution_count": 34,
   "id": "c1dec90a-abf7-4276-a504-9d843015772c",
   "metadata": {},
   "outputs": [],
   "source": [
    "qa={'哈囉':'哈囉，你好嗎','你最喜歡做什麼事':'我最喜歡看電影了','你最喜歡什麼電影':'我最喜歡千鈞一髮','很有品味喔':'謝謝你的讚美'}\n",
    "\n",
    "speak(qa.get(listenTo(),'聽不懂，請再輸入更多台詞'))"
   ]
  },
  {
   "cell_type": "code",
   "execution_count": 40,
   "id": "1631d562-5dac-4375-87f5-b62f86c99666",
   "metadata": {
    "scrolled": true
   },
   "outputs": [
    {
     "name": "stdout",
     "output_type": "stream",
     "text": [
      "Defaulting to user installation because normal site-packages is not writeable\n",
      "Collecting googletrans==3.1.0a0\n",
      "  Downloading googletrans-3.1.0a0.tar.gz (19 kB)\n",
      "  Preparing metadata (setup.py): started\n",
      "  Preparing metadata (setup.py): finished with status 'done'\n",
      "Collecting httpx==0.13.3 (from googletrans==3.1.0a0)\n",
      "  Downloading httpx-0.13.3-py3-none-any.whl.metadata (25 kB)\n",
      "Requirement already satisfied: certifi in c:\\programdata\\anaconda3\\lib\\site-packages (from httpx==0.13.3->googletrans==3.1.0a0) (2024.2.2)\n",
      "Collecting hstspreload (from httpx==0.13.3->googletrans==3.1.0a0)\n",
      "  Downloading hstspreload-2024.5.1-py3-none-any.whl.metadata (2.1 kB)\n",
      "Requirement already satisfied: sniffio in c:\\programdata\\anaconda3\\lib\\site-packages (from httpx==0.13.3->googletrans==3.1.0a0) (1.3.0)\n",
      "Collecting chardet==3.* (from httpx==0.13.3->googletrans==3.1.0a0)\n",
      "  Downloading chardet-3.0.4-py2.py3-none-any.whl.metadata (3.2 kB)\n",
      "Collecting idna==2.* (from httpx==0.13.3->googletrans==3.1.0a0)\n",
      "  Downloading idna-2.10-py2.py3-none-any.whl.metadata (9.1 kB)\n",
      "Collecting rfc3986<2,>=1.3 (from httpx==0.13.3->googletrans==3.1.0a0)\n",
      "  Downloading rfc3986-1.5.0-py2.py3-none-any.whl.metadata (6.5 kB)\n",
      "Collecting httpcore==0.9.* (from httpx==0.13.3->googletrans==3.1.0a0)\n",
      "  Downloading httpcore-0.9.1-py3-none-any.whl.metadata (4.6 kB)\n",
      "Collecting h11<0.10,>=0.8 (from httpcore==0.9.*->httpx==0.13.3->googletrans==3.1.0a0)\n",
      "  Downloading h11-0.9.0-py2.py3-none-any.whl.metadata (8.1 kB)\n",
      "Collecting h2==3.* (from httpcore==0.9.*->httpx==0.13.3->googletrans==3.1.0a0)\n",
      "  Downloading h2-3.2.0-py2.py3-none-any.whl.metadata (32 kB)\n",
      "Collecting hyperframe<6,>=5.2.0 (from h2==3.*->httpcore==0.9.*->httpx==0.13.3->googletrans==3.1.0a0)\n",
      "  Downloading hyperframe-5.2.0-py2.py3-none-any.whl.metadata (7.2 kB)\n",
      "Collecting hpack<4,>=3.0 (from h2==3.*->httpcore==0.9.*->httpx==0.13.3->googletrans==3.1.0a0)\n",
      "  Downloading hpack-3.0.0-py2.py3-none-any.whl.metadata (7.0 kB)\n",
      "Downloading httpx-0.13.3-py3-none-any.whl (55 kB)\n",
      "   ---------------------------------------- 0.0/55.1 kB ? eta -:--:--\n",
      "   ---------------------------------------- 0.0/55.1 kB ? eta -:--:--\n",
      "   ---------------------- ----------------- 30.7/55.1 kB 660.6 kB/s eta 0:00:01\n",
      "   ---------------------------------------- 55.1/55.1 kB 575.1 kB/s eta 0:00:00\n",
      "Downloading chardet-3.0.4-py2.py3-none-any.whl (133 kB)\n",
      "   ---------------------------------------- 0.0/133.4 kB ? eta -:--:--\n",
      "   --- ------------------------------------ 10.2/133.4 kB ? eta -:--:--\n",
      "   -------- ------------------------------ 30.7/133.4 kB 660.6 kB/s eta 0:00:01\n",
      "   ----------------- --------------------- 61.4/133.4 kB 544.7 kB/s eta 0:00:01\n",
      "   ----------------- --------------------- 61.4/133.4 kB 544.7 kB/s eta 0:00:01\n",
      "   ----------------------- --------------- 81.9/133.4 kB 381.3 kB/s eta 0:00:01\n",
      "   ----------------------- --------------- 81.9/133.4 kB 381.3 kB/s eta 0:00:01\n",
      "   ----------------------- --------------- 81.9/133.4 kB 381.3 kB/s eta 0:00:01\n",
      "   -------------------------- ------------ 92.2/133.4 kB 261.7 kB/s eta 0:00:01\n",
      "   -------------------------------------  133.1/133.4 kB 357.2 kB/s eta 0:00:01\n",
      "   -------------------------------------  133.1/133.4 kB 357.2 kB/s eta 0:00:01\n",
      "   -------------------------------------- 133.4/133.4 kB 271.8 kB/s eta 0:00:00\n",
      "Downloading httpcore-0.9.1-py3-none-any.whl (42 kB)\n",
      "   ---------------------------------------- 0.0/42.6 kB ? eta -:--:--\n",
      "   ---------------------------------------- 0.0/42.6 kB ? eta -:--:--\n",
      "   --------- ------------------------------ 10.2/42.6 kB ? eta -:--:--\n",
      "   ---------------------------------------- 42.6/42.6 kB 522.6 kB/s eta 0:00:00\n",
      "Downloading idna-2.10-py2.py3-none-any.whl (58 kB)\n",
      "   ---------------------------------------- 0.0/58.8 kB ? eta -:--:--\n",
      "   ------ --------------------------------- 10.2/58.8 kB ? eta -:--:--\n",
      "   -------------------- ------------------- 30.7/58.8 kB 435.7 kB/s eta 0:00:01\n",
      "   ---------------------------------------- 58.8/58.8 kB 441.6 kB/s eta 0:00:00\n",
      "Downloading h2-3.2.0-py2.py3-none-any.whl (65 kB)\n",
      "   ---------------------------------------- 0.0/65.0 kB ? eta -:--:--\n",
      "   ------ --------------------------------- 10.2/65.0 kB ? eta -:--:--\n",
      "   ------------------------- -------------- 41.0/65.0 kB 495.5 kB/s eta 0:00:01\n",
      "   ------------------------------------- -- 61.4/65.0 kB 544.7 kB/s eta 0:00:01\n",
      "   ---------------------------------------- 65.0/65.0 kB 438.4 kB/s eta 0:00:00\n",
      "Downloading rfc3986-1.5.0-py2.py3-none-any.whl (31 kB)\n",
      "Downloading hstspreload-2024.5.1-py3-none-any.whl (1.1 MB)\n",
      "   ---------------------------------------- 0.0/1.1 MB ? eta -:--:--\n",
      "   ---------------------------------------- 0.0/1.1 MB ? eta -:--:--\n",
      "   - -------------------------------------- 0.0/1.1 MB 960.0 kB/s eta 0:00:02\n",
      "   -- ------------------------------------- 0.1/1.1 MB 1.1 MB/s eta 0:00:01\n",
      "   -- ------------------------------------- 0.1/1.1 MB 1.1 MB/s eta 0:00:01\n",
      "   -- ------------------------------------- 0.1/1.1 MB 1.1 MB/s eta 0:00:01\n",
      "   --- ------------------------------------ 0.1/1.1 MB 348.6 kB/s eta 0:00:04\n",
      "   ---- ----------------------------------- 0.1/1.1 MB 472.1 kB/s eta 0:00:03\n",
      "   ---- ----------------------------------- 0.1/1.1 MB 472.1 kB/s eta 0:00:03\n",
      "   ----- ---------------------------------- 0.2/1.1 MB 416.7 kB/s eta 0:00:03\n",
      "   ------ --------------------------------- 0.2/1.1 MB 436.8 kB/s eta 0:00:03\n",
      "   ------- -------------------------------- 0.2/1.1 MB 428.5 kB/s eta 0:00:03\n",
      "   ------- -------------------------------- 0.2/1.1 MB 430.1 kB/s eta 0:00:03\n",
      "   ------- -------------------------------- 0.2/1.1 MB 430.1 kB/s eta 0:00:03\n",
      "   -------- ------------------------------- 0.3/1.1 MB 402.9 kB/s eta 0:00:03\n",
      "   ---------- ----------------------------- 0.3/1.1 MB 475.1 kB/s eta 0:00:02\n",
      "   ----------- ---------------------------- 0.3/1.1 MB 436.4 kB/s eta 0:00:02\n",
      "   ----------- ---------------------------- 0.3/1.1 MB 445.8 kB/s eta 0:00:02\n",
      "   ------------ --------------------------- 0.4/1.1 MB 449.7 kB/s eta 0:00:02\n",
      "   ------------- -------------------------- 0.4/1.1 MB 469.4 kB/s eta 0:00:02\n",
      "   -------------- ------------------------- 0.4/1.1 MB 479.8 kB/s eta 0:00:02\n",
      "   ---------------- ----------------------- 0.5/1.1 MB 480.3 kB/s eta 0:00:02\n",
      "   ----------------- ---------------------- 0.5/1.1 MB 488.6 kB/s eta 0:00:02\n",
      "   ------------------ --------------------- 0.5/1.1 MB 506.0 kB/s eta 0:00:02\n",
      "   ------------------ --------------------- 0.5/1.1 MB 500.9 kB/s eta 0:00:02\n",
      "   ------------------ --------------------- 0.5/1.1 MB 500.9 kB/s eta 0:00:02\n",
      "   ------------------- -------------------- 0.6/1.1 MB 486.8 kB/s eta 0:00:02\n",
      "   -------------------- ------------------- 0.6/1.1 MB 484.8 kB/s eta 0:00:02\n",
      "   --------------------- ------------------ 0.6/1.1 MB 491.5 kB/s eta 0:00:02\n",
      "   ---------------------- ----------------- 0.7/1.1 MB 509.6 kB/s eta 0:00:01\n",
      "   ------------------------ --------------- 0.7/1.1 MB 512.0 kB/s eta 0:00:01\n",
      "   ------------------------- -------------- 0.7/1.1 MB 522.7 kB/s eta 0:00:01\n",
      "   -------------------------- ------------- 0.8/1.1 MB 525.7 kB/s eta 0:00:01\n",
      "   --------------------------- ------------ 0.8/1.1 MB 524.1 kB/s eta 0:00:01\n",
      "   ----------------------------- ---------- 0.8/1.1 MB 536.2 kB/s eta 0:00:01\n",
      "   ------------------------------ --------- 0.9/1.1 MB 544.7 kB/s eta 0:00:01\n",
      "   ------------------------------- -------- 0.9/1.1 MB 548.2 kB/s eta 0:00:01\n",
      "   -------------------------------- ------- 0.9/1.1 MB 557.3 kB/s eta 0:00:01\n",
      "   ---------------------------------- ----- 1.0/1.1 MB 565.9 kB/s eta 0:00:01\n",
      "   ----------------------------------- ---- 1.0/1.1 MB 574.0 kB/s eta 0:00:01\n",
      "   ------------------------------------ --- 1.1/1.1 MB 576.1 kB/s eta 0:00:01\n",
      "   -------------------------------------- - 1.1/1.1 MB 589.8 kB/s eta 0:00:01\n",
      "   ---------------------------------------  1.1/1.1 MB 596.0 kB/s eta 0:00:01\n",
      "   ---------------------------------------- 1.1/1.1 MB 591.6 kB/s eta 0:00:00\n",
      "Downloading h11-0.9.0-py2.py3-none-any.whl (53 kB)\n",
      "   ---------------------------------------- 0.0/53.6 kB ? eta -:--:--\n",
      "   ---------------------------------------- 53.6/53.6 kB 2.9 MB/s eta 0:00:00\n",
      "Downloading hpack-3.0.0-py2.py3-none-any.whl (38 kB)\n",
      "Downloading hyperframe-5.2.0-py2.py3-none-any.whl (12 kB)\n",
      "Building wheels for collected packages: googletrans\n",
      "  Building wheel for googletrans (setup.py): started\n",
      "  Building wheel for googletrans (setup.py): finished with status 'done'\n",
      "  Created wheel for googletrans: filename=googletrans-3.1.0a0-py3-none-any.whl size=16414 sha256=5dce5b802ed30fe5abacb96a72663bc52c0422e8a23465bd2031453022bc767b\n",
      "  Stored in directory: c:\\users\\ocean\\appdata\\local\\pip\\cache\\wheels\\81\\f2\\e0\\d578821d723b473d18610ea93810e4a5402463919f07e603d9\n",
      "Successfully built googletrans\n",
      "Installing collected packages: rfc3986, hyperframe, hpack, h11, chardet, idna, hstspreload, h2, httpcore, httpx, googletrans\n",
      "Successfully installed chardet-3.0.4 googletrans-3.1.0a0 h11-0.9.0 h2-3.2.0 hpack-3.0.0 hstspreload-2024.5.1 httpcore-0.9.1 httpx-0.13.3 hyperframe-5.2.0 idna-2.10 rfc3986-1.5.0\n"
     ]
    },
    {
     "name": "stderr",
     "output_type": "stream",
     "text": [
      "WARNING: Skipping C:\\ProgramData\\anaconda3\\Lib\\site-packages\\datashader-0.16.0.dist-info due to invalid metadata entry 'name'\n",
      "WARNING: Skipping C:\\ProgramData\\anaconda3\\Lib\\site-packages\\holoviews-1.18.3.dist-info due to invalid metadata entry 'name'\n",
      "WARNING: Skipping C:\\ProgramData\\anaconda3\\Lib\\site-packages\\hvplot-0.9.2.dist-info due to invalid metadata entry 'name'\n",
      "WARNING: Skipping C:\\ProgramData\\anaconda3\\Lib\\site-packages\\panel-1.3.8.dist-info due to invalid metadata entry 'name'\n",
      "WARNING: Skipping C:\\ProgramData\\anaconda3\\Lib\\site-packages\\datashader-0.16.0.dist-info due to invalid metadata entry 'name'\n",
      "WARNING: Skipping C:\\ProgramData\\anaconda3\\Lib\\site-packages\\holoviews-1.18.3.dist-info due to invalid metadata entry 'name'\n",
      "WARNING: Skipping C:\\ProgramData\\anaconda3\\Lib\\site-packages\\hvplot-0.9.2.dist-info due to invalid metadata entry 'name'\n",
      "WARNING: Skipping C:\\ProgramData\\anaconda3\\Lib\\site-packages\\panel-1.3.8.dist-info due to invalid metadata entry 'name'\n",
      "WARNING: Skipping C:\\ProgramData\\anaconda3\\Lib\\site-packages\\statsmodels-0.14.0.dist-info due to invalid metadata entry 'name'\n",
      "WARNING: Skipping C:\\ProgramData\\anaconda3\\Lib\\site-packages\\streamlit-1.30.0.dist-info due to invalid metadata entry 'name'\n",
      "WARNING: Skipping C:\\ProgramData\\anaconda3\\Lib\\site-packages\\xarray-2023.6.0.dist-info due to invalid metadata entry 'name'\n",
      "WARNING: Skipping C:\\ProgramData\\anaconda3\\Lib\\site-packages\\datashader-0.16.0.dist-info due to invalid metadata entry 'name'\n",
      "WARNING: Skipping C:\\ProgramData\\anaconda3\\Lib\\site-packages\\holoviews-1.18.3.dist-info due to invalid metadata entry 'name'\n",
      "WARNING: Skipping C:\\ProgramData\\anaconda3\\Lib\\site-packages\\hvplot-0.9.2.dist-info due to invalid metadata entry 'name'\n",
      "WARNING: Skipping C:\\ProgramData\\anaconda3\\Lib\\site-packages\\panel-1.3.8.dist-info due to invalid metadata entry 'name'\n",
      "WARNING: Skipping C:\\ProgramData\\anaconda3\\Lib\\site-packages\\statsmodels-0.14.0.dist-info due to invalid metadata entry 'name'\n",
      "WARNING: Skipping C:\\ProgramData\\anaconda3\\Lib\\site-packages\\streamlit-1.30.0.dist-info due to invalid metadata entry 'name'\n",
      "WARNING: Skipping C:\\ProgramData\\anaconda3\\Lib\\site-packages\\xarray-2023.6.0.dist-info due to invalid metadata entry 'name'\n",
      "  WARNING: The script chardetect.exe is installed in 'C:\\Users\\ocean\\AppData\\Roaming\\Python\\Python311\\Scripts' which is not on PATH.\n",
      "  Consider adding this directory to PATH or, if you prefer to suppress this warning, use --no-warn-script-location.\n",
      "WARNING: Skipping C:\\ProgramData\\anaconda3\\Lib\\site-packages\\datashader-0.16.0.dist-info due to invalid metadata entry 'name'\n",
      "WARNING: Skipping C:\\ProgramData\\anaconda3\\Lib\\site-packages\\holoviews-1.18.3.dist-info due to invalid metadata entry 'name'\n",
      "WARNING: Skipping C:\\ProgramData\\anaconda3\\Lib\\site-packages\\hvplot-0.9.2.dist-info due to invalid metadata entry 'name'\n",
      "WARNING: Skipping C:\\ProgramData\\anaconda3\\Lib\\site-packages\\panel-1.3.8.dist-info due to invalid metadata entry 'name'\n",
      "WARNING: Skipping C:\\ProgramData\\anaconda3\\Lib\\site-packages\\datashader-0.16.0.dist-info due to invalid metadata entry 'name'\n",
      "WARNING: Skipping C:\\ProgramData\\anaconda3\\Lib\\site-packages\\holoviews-1.18.3.dist-info due to invalid metadata entry 'name'\n",
      "WARNING: Skipping C:\\ProgramData\\anaconda3\\Lib\\site-packages\\hvplot-0.9.2.dist-info due to invalid metadata entry 'name'\n",
      "WARNING: Skipping C:\\ProgramData\\anaconda3\\Lib\\site-packages\\panel-1.3.8.dist-info due to invalid metadata entry 'name'\n",
      "WARNING: Skipping C:\\ProgramData\\anaconda3\\Lib\\site-packages\\datashader-0.16.0.dist-info due to invalid metadata entry 'name'\n",
      "WARNING: Skipping C:\\ProgramData\\anaconda3\\Lib\\site-packages\\holoviews-1.18.3.dist-info due to invalid metadata entry 'name'\n",
      "WARNING: Skipping C:\\ProgramData\\anaconda3\\Lib\\site-packages\\hvplot-0.9.2.dist-info due to invalid metadata entry 'name'\n",
      "WARNING: Skipping C:\\ProgramData\\anaconda3\\Lib\\site-packages\\panel-1.3.8.dist-info due to invalid metadata entry 'name'\n"
     ]
    }
   ],
   "source": [
    "# 語音翻譯\n",
    "\n",
    "! pip install googletrans==3.1.0a0"
   ]
  },
  {
   "cell_type": "code",
   "execution_count": 51,
   "id": "c4242339-967b-4d4e-a671-9dea69f67889",
   "metadata": {},
   "outputs": [],
   "source": [
    "import speech_recognition\n",
    "import tempfile\n",
    "from gtts import gTTS\n",
    "from pygame import mixer\n",
    "from googletrans import Translator"
   ]
  },
  {
   "cell_type": "code",
   "execution_count": 52,
   "id": "e9c91039-fd36-479e-9bd4-96ac2a0eb672",
   "metadata": {},
   "outputs": [],
   "source": [
    "def listenTo():\n",
    "    r=speech_recognition.Recognizer()\n",
    "    with speech_recognition.Microphone() as source:\n",
    "        r.adjust_for_ambient_noise(source)\n",
    "        audio=r.listen(source)\n",
    "    return r.recognize_google(audio,language='zh-TW')"
   ]
  },
  {
   "cell_type": "code",
   "execution_count": 53,
   "id": "8b9e4b34-1385-4104-b048-d4bbc3c5db52",
   "metadata": {},
   "outputs": [],
   "source": [
    "def apeak(sentence,lang):\n",
    "    mixer.init()\n",
    "    with tempfile.NamedTemporaryFile(delete=True) as fp:\n",
    "        tts=gTTS(text=sentence,lang=lang)\n",
    "        tts.save(\"{}.mp3\".format(fp.name))\n",
    "        mixer.music.load('{}.mp3'.format(fp.name))\n",
    "        mixer.music.play()"
   ]
  },
  {
   "cell_type": "code",
   "execution_count": 54,
   "id": "e646dced-5c7a-47c3-8e7e-19f1bbf48911",
   "metadata": {},
   "outputs": [
    {
     "data": {
      "text/plain": [
       "'Hello everyone'"
      ]
     },
     "execution_count": 54,
     "metadata": {},
     "output_type": "execute_result"
    }
   ],
   "source": [
    "translator = Translator()\n",
    "translator.translate('大家好', dest='en').text"
   ]
  },
  {
   "cell_type": "code",
   "execution_count": 57,
   "id": "6de3ffb1-99b0-4a22-9ba3-f3b52244634c",
   "metadata": {},
   "outputs": [
    {
     "name": "stdout",
     "output_type": "stream",
     "text": [
      "こんにちは、みんな\n",
      "Translated(src=ja, dest=ja, text=こんにちは、みんな, pronunciation=Kon'nichiwa, min'na, extra_data=\"{'translat...\")\n"
     ]
    }
   ],
   "source": [
    "lang = 'ja'\n",
    "A = translator.translate(listenTo(),lang).text\n",
    "apeak(A,lang)\n",
    "print(A)\n",
    "\n",
    "B = translator.translate(A, dest='ja')\n",
    "print(B)"
   ]
  }
 ],
 "metadata": {
  "kernelspec": {
   "display_name": "Python 3 (ipykernel)",
   "language": "python",
   "name": "python3"
  },
  "language_info": {
   "codemirror_mode": {
    "name": "ipython",
    "version": 3
   },
   "file_extension": ".py",
   "mimetype": "text/x-python",
   "name": "python",
   "nbconvert_exporter": "python",
   "pygments_lexer": "ipython3",
   "version": "3.11.7"
  }
 },
 "nbformat": 4,
 "nbformat_minor": 5
}
