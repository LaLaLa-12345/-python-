{
 "cells": [
  {
   "cell_type": "code",
   "execution_count": 1,
   "id": "ef54e232-7b3a-4199-a72c-ec326a464073",
   "metadata": {},
   "outputs": [
    {
     "name": "stdout",
     "output_type": "stream",
     "text": [
      "C:\\ProgramData\\anaconda3\\python.exe\n"
     ]
    }
   ],
   "source": [
    "# 語音轉譯成文字\n",
    "\n",
    "import sys\n",
    "print(sys.executable)"
   ]
  },
  {
   "cell_type": "code",
   "execution_count": 2,
   "id": "ca6fd400-ed06-417e-9ae8-5571073c8771",
   "metadata": {},
   "outputs": [
    {
     "name": "stdout",
     "output_type": "stream",
     "text": [
      "['C:\\\\Users\\\\ocean', 'C:\\\\ProgramData\\\\anaconda3\\\\python311.zip', 'C:\\\\ProgramData\\\\anaconda3\\\\DLLs', 'C:\\\\ProgramData\\\\anaconda3\\\\Lib', 'C:\\\\ProgramData\\\\anaconda3', '', 'C:\\\\Users\\\\ocean\\\\AppData\\\\Roaming\\\\Python\\\\Python311\\\\site-packages', 'C:\\\\ProgramData\\\\anaconda3\\\\Lib\\\\site-packages', 'C:\\\\ProgramData\\\\anaconda3\\\\Lib\\\\site-packages\\\\win32', 'C:\\\\ProgramData\\\\anaconda3\\\\Lib\\\\site-packages\\\\win32\\\\lib', 'C:\\\\ProgramData\\\\anaconda3\\\\Lib\\\\site-packages\\\\Pythonwin']\n"
     ]
    }
   ],
   "source": [
    "import sys\n",
    "print(sys.path)"
   ]
  },
  {
   "cell_type": "code",
   "execution_count": 3,
   "id": "48ba6b43-a66d-4d41-9f82-9f4b45e2cbdd",
   "metadata": {},
   "outputs": [],
   "source": [
    "import sys\n",
    "sys.path.append('C:\\\\Users\\\\ocean\\\\anaconda3\\\\Lib\\\\site-packages')"
   ]
  },
  {
   "cell_type": "code",
   "execution_count": 4,
   "id": "599c18ff-b856-4873-8f53-2884181ca886",
   "metadata": {},
   "outputs": [
    {
     "name": "stdout",
     "output_type": "stream",
     "text": [
      "你好\n"
     ]
    }
   ],
   "source": [
    "#繁體中文\n",
    "\n",
    "import speech_recognition\n",
    "r=speech_recognition.Recognizer()\n",
    "with speech_recognition.Microphone() as source:\n",
    "    audio= r.listen(source)\n",
    "\n",
    "result = r.recognize_google(audio, language='zh-TW')\n",
    "print(result)"
   ]
  },
  {
   "cell_type": "code",
   "execution_count": 5,
   "id": "d4827d28-6b4b-4443-a0d8-96a9a0959c29",
   "metadata": {},
   "outputs": [
    {
     "name": "stdout",
     "output_type": "stream",
     "text": [
      "welcome\n"
     ]
    }
   ],
   "source": [
    "#英文\n",
    "\n",
    "import speech_recognition\n",
    "r=speech_recognition.Recognizer()\n",
    "with speech_recognition.Microphone() as source:\n",
    "    audio= r.listen(source)\n",
    "\n",
    "result = r.recognize_google(audio, language='en')\n",
    "print(result)"
   ]
  },
  {
   "cell_type": "code",
   "execution_count": 6,
   "id": "ba052c0b-9977-408f-b23b-6fa8d28917e8",
   "metadata": {},
   "outputs": [
    {
     "name": "stdout",
     "output_type": "stream",
     "text": [
      "こんにちは\n"
     ]
    }
   ],
   "source": [
    "#日文\n",
    "\n",
    "import speech_recognition\n",
    "r=speech_recognition.Recognizer()\n",
    "with speech_recognition.Microphone() as source:\n",
    "    audio= r.listen(source)\n",
    "\n",
    "result=r.recognize_google(audio, language = 'ja')\n",
    "print(result)"
   ]
  },
  {
   "cell_type": "code",
   "execution_count": 7,
   "id": "dfa0ddb5-9ac7-42b9-bf44-dc31692e4ec5",
   "metadata": {},
   "outputs": [],
   "source": [
    "# 電腦說話\n",
    "\n",
    "from gtts import gTTS\n",
    "tts=gTTS(text='哈囉',lang='zh-TW')\n",
    "tts.save('hello.mp3')\n",
    "\n",
    "# gTTs (Google Text-to-Speech)連構式的 Lang 語言代碼, zn-TW (繁體中文), zn-CN (簡體中文), en (英文), ja (日文), fr (法文), ru (俄文), es (西班牙文)"
   ]
  },
  {
   "cell_type": "code",
   "execution_count": 10,
   "id": "1321a128-d7e3-4b34-a58b-474c61b7481d",
   "metadata": {},
   "outputs": [],
   "source": [
    "from pygame import mixer\n",
    "mixer.init()\n",
    "mixer.music.load('hello.mp3')\n",
    "mixer.music.play()"
   ]
  },
  {
   "cell_type": "code",
   "execution_count": 11,
   "id": "ea35b5bc-6fda-4ffa-8568-090c88fd1a49",
   "metadata": {},
   "outputs": [],
   "source": [
    "from gtts import gTTS\n",
    "tts1=gTTS(text='こんにちは',lang='ja')\n",
    "tts1.save('japanese_hollo.mp3')\n",
    "\n",
    "from pygame import mixer\n",
    "mixer.init()\n",
    "mixer.music.load('japanese_hollo.mp3')\n",
    "mixer.music.play()"
   ]
  },
  {
   "cell_type": "code",
   "execution_count": 12,
   "id": "fbf28197-cc69-44c9-9862-52e8a595e003",
   "metadata": {},
   "outputs": [],
   "source": [
    "# temp file\n",
    "\n",
    "import tempfile\n",
    "def speak(sentence):\n",
    "    with tempfile.NamedTemporaryFile(delete=True) as fp:\n",
    "        tts=gTTS(text=sentence, lang='zh-TW')\n",
    "        tts.save(\"{}.mp3\".format(fp.name))\n",
    "        mixer.music.load('{}.mp3'.format(fp.name))\n",
    "        mixer.music.play()\n",
    "\n",
    "speak('哈囉，你好嗎')"
   ]
  },
  {
   "cell_type": "code",
   "execution_count": 13,
   "id": "9af8560b-d578-491e-991b-ffe4f5cdfc7a",
   "metadata": {},
   "outputs": [],
   "source": [
    "import tempfile\n",
    "def speak(sentence):\n",
    "    with tempfile.NamedTemporaryFile(delete=True) as fp:\n",
    "        tts=gTTS(text=sentence, lang='ja')\n",
    "        tts.save(\"{}.mp3\".format(fp.name))\n",
    "        mixer.music.load('{}.mp3'.format(fp.name))\n",
    "        mixer.music.play()\n",
    "\n",
    "speak('いらっしゃいませ')"
   ]
  }
 ],
 "metadata": {
  "kernelspec": {
   "display_name": "Python 3 (ipykernel)",
   "language": "python",
   "name": "python3"
  },
  "language_info": {
   "codemirror_mode": {
    "name": "ipython",
    "version": 3
   },
   "file_extension": ".py",
   "mimetype": "text/x-python",
   "name": "python",
   "nbconvert_exporter": "python",
   "pygments_lexer": "ipython3",
   "version": "3.11.7"
  }
 },
 "nbformat": 4,
 "nbformat_minor": 5
}
