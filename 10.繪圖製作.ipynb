{
 "cells": [
  {
   "cell_type": "code",
   "execution_count": 3,
   "id": "5daae406-23eb-424f-bac9-64b24370da5a",
   "metadata": {},
   "outputs": [],
   "source": [
    "from PIL import Image\n",
    "pic=Image.open(\"C:/Users/ocean/OneDrive/桌面/碩-金融科技/老虎.jpg\")"
   ]
  },
  {
   "cell_type": "code",
   "execution_count": 4,
   "id": "d1da52bb-bb7b-4fea-89de-42a3e5dd394a",
   "metadata": {},
   "outputs": [
    {
     "name": "stdout",
     "output_type": "stream",
     "text": [
      "圖片寬度: 656\n",
      "圖片高度: 437\n"
     ]
    }
   ],
   "source": [
    "print('圖片寬度:', pic.width)\n",
    "print('圖片高度:', pic.height)"
   ]
  },
  {
   "cell_type": "code",
   "execution_count": 5,
   "id": "b78e24be-1f43-45c2-aa5c-b78d7041b999",
   "metadata": {},
   "outputs": [
    {
     "name": "stdout",
     "output_type": "stream",
     "text": [
      "圖片檔案格式: JPEG\n",
      "圖片色彩模式: RGB\n",
      "圖片大小: (656, 437)\n"
     ]
    }
   ],
   "source": [
    "print('圖片檔案格式:', pic.format)\n",
    "print('圖片色彩模式:', pic.mode)\n",
    "print('圖片大小:', pic.size)"
   ]
  },
  {
   "cell_type": "code",
   "execution_count": 6,
   "id": "11570cd2-933d-4009-b503-27c09300e6dc",
   "metadata": {},
   "outputs": [],
   "source": [
    "pic.show()"
   ]
  },
  {
   "cell_type": "code",
   "execution_count": 7,
   "id": "1ffa72e8-55f1-4d98-b2da-dbcb7e2c7173",
   "metadata": {},
   "outputs": [
    {
     "name": "stdout",
     "output_type": "stream",
     "text": [
      "圖片色彩模式: RGB\n",
      "轉換黑白後的圖片色彩模式: 1\n"
     ]
    }
   ],
   "source": [
    "print('圖片色彩模式:', pic.mode)\n",
    "new_pic=pic.convert('1')\n",
    "new_pic.show()\n",
    "print('轉換黑白後的圖片色彩模式:', new_pic.mode)"
   ]
  },
  {
   "cell_type": "code",
   "execution_count": 8,
   "id": "061aa53b-5461-423a-969b-952c9cd2486b",
   "metadata": {},
   "outputs": [],
   "source": [
    "new_pic=pic.rotate(30)\n",
    "new_pic.show()"
   ]
  },
  {
   "cell_type": "code",
   "execution_count": 9,
   "id": "4d4b9174-2a24-48e1-ba68-9527e6da67ce",
   "metadata": {},
   "outputs": [],
   "source": [
    "new_pic=pic.rotate(-30)\n",
    "new_pic.show()"
   ]
  },
  {
   "cell_type": "code",
   "execution_count": 10,
   "id": "da3bae5d-ce7f-48a2-9c35-cecf9b36a1c8",
   "metadata": {},
   "outputs": [],
   "source": [
    "from PIL import Image\n",
    "from PIL import ImageFilter\n",
    "pic=Image.open(\"C:/Users/ocean/OneDrive/桌面/碩-金融科技/老虎.jpg\")"
   ]
  },
  {
   "cell_type": "code",
   "execution_count": 11,
   "id": "15c77904-df2f-4b70-ac47-3bdf345f4892",
   "metadata": {},
   "outputs": [],
   "source": [
    "new_pic=pic.filter(ImageFilter.CONTOUR)\n",
    "new_pic.save(\"C:/Users/ocean/OneDrive/桌面/碩-金融科技/老虎1.jpg\")\n",
    "new_pic.show()"
   ]
  },
  {
   "cell_type": "code",
   "execution_count": 12,
   "id": "8be54472-f506-41e5-919c-7c47845e3912",
   "metadata": {},
   "outputs": [
    {
     "name": "stdout",
     "output_type": "stream",
     "text": [
      "原圖大小: (656, 437)\n",
      "縮放後圖形大小: (400, 400)\n"
     ]
    }
   ],
   "source": [
    "print('原圖大小:', pic.size)\n",
    "new_pic=pic.resize((400,400))\n",
    "print('縮放後圖形大小:', new_pic.size)\n",
    "new_pic.save(\"C:/Users/ocean/OneDrive/桌面/碩-金融科技/老虎2.jpg\")\n",
    "new_pic.show()"
   ]
  },
  {
   "cell_type": "code",
   "execution_count": 13,
   "id": "6f0316b8-556e-4049-a30a-bbcd3e77bf65",
   "metadata": {},
   "outputs": [],
   "source": [
    "from PIL import Image, ImageFont, ImageDraw\n",
    "pic=Image.open(\"C:/Users/ocean/OneDrive/桌面/碩-金融科技/老虎.jpg\")"
   ]
  },
  {
   "cell_type": "code",
   "execution_count": 20,
   "id": "c2046175-aa74-4195-9422-d14dfb574938",
   "metadata": {},
   "outputs": [],
   "source": [
    "t_font=ImageFont.truetype('c://Windows//Fonts//Arial//arial.ttf',30)\n",
    "draw=ImageDraw.Draw(pic)\n",
    "\n",
    "draw.text((20,30), 'Taiwan', font=t_font, fill=(100,150,0,255))\n",
    "draw.text((20,100), 'Tiger', font=t_font, fill=(0,0,250,255))\n",
    "pic.show()"
   ]
  }
 ],
 "metadata": {
  "kernelspec": {
   "display_name": "Python 3 (ipykernel)",
   "language": "python",
   "name": "python3"
  },
  "language_info": {
   "codemirror_mode": {
    "name": "ipython",
    "version": 3
   },
   "file_extension": ".py",
   "mimetype": "text/x-python",
   "name": "python",
   "nbconvert_exporter": "python",
   "pygments_lexer": "ipython3",
   "version": "3.11.7"
  }
 },
 "nbformat": 4,
 "nbformat_minor": 5
}
